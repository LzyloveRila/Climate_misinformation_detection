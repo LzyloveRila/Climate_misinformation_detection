{
 "cells": [
  {
   "cell_type": "code",
   "execution_count": 153,
   "metadata": {},
   "outputs": [],
   "source": [
    "import json\n",
    "import nltk\n",
    "from nltk.tokenize import word_tokenize\n",
    "from nltk.corpus import stopwords\n",
    "from nltk.stem import WordNetLemmatizer, PorterStemmer\n",
    "import re\n",
    "from sklearn import svm\n",
    "from sklearn.feature_extraction.text import CountVectorizer"
   ]
  },
  {
   "cell_type": "code",
   "execution_count": 154,
   "metadata": {},
   "outputs": [],
   "source": [
    "lemmatizer = WordNetLemmatizer()\n",
    "stemmer = PorterStemmer() "
   ]
  },
  {
   "cell_type": "code",
   "execution_count": 155,
   "metadata": {},
   "outputs": [],
   "source": [
    "def read_file(filename):\n",
    "    with open(filename,'r') as f:\n",
    "        data = f.read()\n",
    "        data = json.loads(data)\n",
    "    f.close()\n",
    "\n",
    "    data_set = []\n",
    "    data_label = []\n",
    "    for i,t in data.items():\n",
    "        data_set.append(t['text'])\n",
    "        data_label.append(t['label'])\n",
    "    \n",
    "    return data_set, data_label\n",
    "\n",
    "train_set, train_label = read_file('train_total_balance_new.json')\n",
    "dev_set, dev_label = read_file('dev.json')\n",
    "\n",
    "    \n",
    "with open('test-unlabelled.json','r') as f:\n",
    "    test = f.read()\n",
    "    test = json.loads(test)\n",
    "    \n",
    "test_set = []\n",
    "for i,t in test.items():\n",
    "    test_set.append(t['text'])"
   ]
  },
  {
   "cell_type": "code",
   "execution_count": 156,
   "metadata": {},
   "outputs": [],
   "source": [
    "processed_train_set = [re.sub(r'http\\S+', '', s) for s in train_set]\n",
    "processed_dev_set = [re.sub(r'http\\S+', '', s) for s in dev_set]"
   ]
  },
  {
   "cell_type": "code",
   "execution_count": 216,
   "metadata": {},
   "outputs": [
    {
     "data": {
      "text/plain": [
       "<3400x45039 sparse matrix of type '<class 'numpy.int64'>'\n",
       "\twith 799208 stored elements in Compressed Sparse Row format>"
      ]
     },
     "execution_count": 216,
     "metadata": {},
     "output_type": "execute_result"
    }
   ],
   "source": [
    "from nltk.tokenize import RegexpTokenizer\n",
    "tokenizer = RegexpTokenizer('\\w+|\\w+-\\w+')\n",
    "\n",
    "def my_tokenize(s):\n",
    "#     tokenizer = TreebankWordTokenizer()\n",
    "#     tokens = nltk.word_tokenize(s)\n",
    "    tokens = tokenizer.tokenize(s)\n",
    "    lemma_words=[lemmatizer.lemmatize(w) for w in tokens]\n",
    "    return tokens\n",
    "\n",
    "# max_features=200000 max_df=0.95,min_df=2\n",
    "# analyzer string, {‘word’, ‘char’, ‘char_wb’} or callable\n",
    "vectorizer = CountVectorizer(tokenizer=my_tokenize,lowercase=True,max_df=0.95,stop_words='english',ngram_range=(1,1)) \n",
    "x_train = vectorizer.fit_transform(processed_train_set)\n",
    "x_train"
   ]
  },
  {
   "cell_type": "code",
   "execution_count": 217,
   "metadata": {},
   "outputs": [],
   "source": [
    "# textttt = train_set[18]\n",
    "# tokens = tokenizer.tokenize(textttt)\n",
    "# print(textttt)\n",
    "# print('================')\n",
    "# rem_stop_words  = [w for w in tokens if len(w)>2 if not w in stopwords.words('english')]\n",
    "# lemma_words=[lemmatizer.lemmatize(w) for w in rem_stop_words]\n",
    "# print(lemma_words)"
   ]
  },
  {
   "cell_type": "code",
   "execution_count": 218,
   "metadata": {},
   "outputs": [
    {
     "data": {
      "text/plain": [
       "(3400, 45039)"
      ]
     },
     "execution_count": 218,
     "metadata": {},
     "output_type": "execute_result"
    }
   ],
   "source": [
    "from sklearn.feature_extraction.text import TfidfTransformer\n",
    "tfidf_transformer = TfidfTransformer()\n",
    "x_train_tfidf = tfidf_transformer.fit_transform(x_train)\n",
    "x_train_tfidf.shape"
   ]
  },
  {
   "cell_type": "code",
   "execution_count": 219,
   "metadata": {
    "scrolled": true
   },
   "outputs": [
    {
     "name": "stdout",
     "output_type": "stream",
     "text": [
      "(100, 45039)\n"
     ]
    }
   ],
   "source": [
    "vectorizer_dev = CountVectorizer(tokenizer=my_tokenize,lowercase=True,stop_words='english',\n",
    "                                 vocabulary=vectorizer.vocabulary_)\n",
    "x_dev = vectorizer_dev.fit_transform(processed_dev_set)\n",
    "x_dev_tfidf = tfidf_transformer.fit_transform(x_dev)\n",
    "print(x_dev_tfidf.shape)"
   ]
  },
  {
   "cell_type": "code",
   "execution_count": 222,
   "metadata": {},
   "outputs": [
    {
     "name": "stderr",
     "output_type": "stream",
     "text": [
      "\n",
      "  0%|          | 0/4 [00:00<?, ?it/s]\u001b[A\n",
      " 50%|█████     | 2/4 [00:00<00:00,  6.93it/s]\u001b[A"
     ]
    },
    {
     "name": "stdout",
     "output_type": "stream",
     "text": [
      "===============================\n",
      "pre: 0.7777777777777778  recall: 0.84  f1: 0.8076923076923077\n",
      "{'C': 1, 'max_iter': 1000, 'penalty': 'l2'}\n",
      "===============================\n",
      "pre: 0.7678571428571429  recall: 0.86  f1: 0.8113207547169812\n",
      "{'C': 10, 'max_iter': 1000, 'penalty': 'l2'}\n"
     ]
    },
    {
     "name": "stderr",
     "output_type": "stream",
     "text": [
      "\n",
      " 75%|███████▌  | 3/4 [00:01<00:00,  2.83it/s]\u001b[A"
     ]
    },
    {
     "name": "stdout",
     "output_type": "stream",
     "text": [
      "===============================\n",
      "pre: 0.7818181818181819  recall: 0.86  f1: 0.819047619047619\n",
      "{'C': 100, 'max_iter': 1000, 'penalty': 'l2'}\n"
     ]
    },
    {
     "name": "stderr",
     "output_type": "stream",
     "text": [
      "/Users/lizhengyang/anaconda3/lib/python3.7/site-packages/sklearn/svm/base.py:929: ConvergenceWarning: Liblinear failed to converge, increase the number of iterations.\n",
      "  \"the number of iterations.\", ConvergenceWarning)\n",
      "\n",
      "100%|██████████| 4/4 [00:01<00:00,  2.09it/s]\u001b[A"
     ]
    },
    {
     "name": "stdout",
     "output_type": "stream",
     "text": [
      "===============================\n",
      "pre: 0.7818181818181819  recall: 0.86  f1: 0.819047619047619\n",
      "{'C': 1000, 'max_iter': 1000, 'penalty': 'l2'}\n"
     ]
    }
   ],
   "source": [
    "from sklearn.model_selection import ParameterGrid\n",
    "from sklearn.metrics import precision_recall_fscore_support\n",
    "import numpy as np\n",
    "from tqdm import tqdm\n",
    "\n",
    "grid_linear = {'penalty':['l2'],'C':[1,10,100,1000],'max_iter':[1000]}\n",
    "clf = svm.LinearSVC(random_state=90042, tol=1e-4)\n",
    "\n",
    "for z in tqdm(ParameterGrid(grid_linear)):\n",
    "    clf.set_params(**z)\n",
    "    clf.fit(x_train_tfidf, train_label)\n",
    "    result = clf.predict(x_dev_tfidf)\n",
    "    p, r, f, _ = precision_recall_fscore_support(dev_label, result, pos_label=1, average=\"binary\")\n",
    "    print(\"===============================\")\n",
    "    print(\"pre:\",p,\" recall:\",r,\" f1:\",f)\n",
    "    print(z)"
   ]
  },
  {
   "cell_type": "code",
   "execution_count": null,
   "metadata": {},
   "outputs": [
    {
     "name": "stderr",
     "output_type": "stream",
     "text": [
      "\n",
      "  0%|          | 0/42 [00:00<?, ?it/s]\u001b[A\n",
      "  2%|▏         | 1/42 [00:17<12:13, 17.89s/it]\u001b[A"
     ]
    },
    {
     "name": "stdout",
     "output_type": "stream",
     "text": [
      "===============================\n",
      "pre: 0.8  recall: 0.64  f1: 0.7111111111111111\n",
      "{'C': 0.1, 'gamma': 'scale'}\n"
     ]
    },
    {
     "name": "stderr",
     "output_type": "stream",
     "text": [
      "/Users/lizhengyang/anaconda3/lib/python3.7/site-packages/sklearn/metrics/classification.py:1437: UndefinedMetricWarning: Precision and F-score are ill-defined and being set to 0.0 due to no predicted samples.\n",
      "  'precision', 'predicted', average, warn_for)\n",
      "\n",
      "  5%|▍         | 2/42 [00:33<11:29, 17.25s/it]\u001b[A"
     ]
    },
    {
     "name": "stdout",
     "output_type": "stream",
     "text": [
      "===============================\n",
      "pre: 0.0  recall: 0.0  f1: 0.0\n",
      "{'C': 0.1, 'gamma': 0.0001}\n"
     ]
    },
    {
     "name": "stderr",
     "output_type": "stream",
     "text": [
      "\n",
      "  7%|▋         | 3/42 [00:49<10:53, 16.75s/it]\u001b[A"
     ]
    },
    {
     "name": "stdout",
     "output_type": "stream",
     "text": [
      "===============================\n",
      "pre: 0.0  recall: 0.0  f1: 0.0\n",
      "{'C': 0.1, 'gamma': 0.001}\n"
     ]
    }
   ],
   "source": [
    "C = [0.1,1,10,100,1000,10000]\n",
    "gamma = ['scale',1e-4,1e-3,1e-2,1e-1,1,10]\n",
    "grid_svc = {'C':C,'gamma':gamma}\n",
    "clf1 = svm.SVC()\n",
    "f1_lists = []\n",
    "for z in tqdm(ParameterGrid(grid_svc)):\n",
    "    clf1.set_params(**z)\n",
    "    clf1.fit(x_train_tfidf, train_label)\n",
    "    result1 = clf1.predict(x_dev_tfidf)\n",
    "    p, r, f, _ = precision_recall_fscore_support(dev_label, result1, pos_label=1, average=\"binary\")\n",
    "    f1_lists.append(f)\n",
    "    print(\"===============================\")\n",
    "    print(\"pre:\",p,\" recall:\",r,\" f1:\",f)\n",
    "    print(z)"
   ]
  },
  {
   "cell_type": "markdown",
   "metadata": {},
   "source": [
    "### Results\n",
    "----------\n",
    "Linear SVC\n",
    "* pre: 0.8260869565217391  recall: 0.76  f1: 0.7916666666666667\n",
    "{'C': 1, 'max_iter': 1000, 'penalty': 'l2', 'random_state': 0}    \n",
    "----------\n",
    "SVC\n",
    "* pre: 0.918918918918919  recall: 0.68  f1: 0.7816091954022989\n",
    "{'C': 0.1, 'gamma': 'scale', 'max_iter': 1000, 'random_state': 90042}\n",
    "* pre: 0.8085106382978723  recall: 0.76  f1: 0.7835051546391754\n",
    "{'C': 1, 'gamma': 'scale', 'max_iter': 1000, 'random_state': 90042}\n",
    "* pre: 0.8260869565217391  recall: 0.76  f1: 0.7916666666666667\n",
    "{'C': 5, 'gamma': 0.1, 'max_iter': 1000, 'random_state': 90042}\n",
    "* pre: 0.8125  recall: 0.78  f1: 0.7959183673469388\n",
    "{'C': 100, 'gamma': 0.1, 'max_iter': 1000, 'random_state': 90042}\n",
    "\n",
    "* pre: 0.8125  recall: 0.78  f1: 0.7959183673469388\n",
    "{'C': 1, 'gamma': 'scale'}   ---- max_df=0.95 min_df=5 \n",
    "\n",
    "------------------\n",
    "#### balance new\n",
    "-------\n",
    "Linear\n",
    "pre: 0.7884615384615384  recall: 0.82  f1: 0.803921568627451\n",
    "{'C': 1, 'max_iter': 1000, 'penalty': 'l2'}\n",
    "pre: 0.7818181818181819  recall: 0.86  f1: 0.819047619047619\n",
    "{'C': 100, 'max_iter': 1000, 'penalty': 'l2'}     \n",
    "\n",
    "-------\n",
    "SVC\n",
    "pre: 0.7818181818181819  recall: 0.86  f1: 0.819047619047619\n",
    "{'C': 100, 'gamma': 0.01}"
   ]
  },
  {
   "cell_type": "code",
   "execution_count": 209,
   "metadata": {
    "scrolled": true
   },
   "outputs": [
    {
     "name": "stdout",
     "output_type": "stream",
     "text": [
      "NO.3: gt: 0 p: 1\n",
      "NO.15: gt: 0 p: 1\n",
      "NO.16: gt: 0 p: 1\n",
      "NO.18: gt: 0 p: 1\n",
      "NO.19: gt: 0 p: 1\n",
      "NO.23: gt: 1 p: 0\n",
      "NO.29: gt: 1 p: 0\n",
      "NO.31: gt: 1 p: 0\n",
      "NO.36: gt: 0 p: 1\n",
      "NO.41: gt: 0 p: 1\n",
      "NO.42: gt: 1 p: 0\n",
      "NO.63: gt: 0 p: 1\n",
      "NO.72: gt: 1 p: 0\n",
      "NO.75: gt: 1 p: 0\n",
      "NO.78: gt: 0 p: 1\n",
      "NO.87: gt: 0 p: 1\n",
      "NO.93: gt: 0 p: 1\n",
      "NO.96: gt: 0 p: 1\n",
      "NO.97: gt: 1 p: 0\n",
      "19\n"
     ]
    }
   ],
   "source": [
    "error = 0\n",
    "for i in range(len(result)):\n",
    "    if dev_label[i] != result[i]:\n",
    "        error+=1\n",
    "        print(\"NO.{}:\".format(i),\"gt:\",dev_label[i],\"p:\",int(result[i]))\n",
    "print(error)"
   ]
  },
  {
   "cell_type": "code",
   "execution_count": 208,
   "metadata": {},
   "outputs": [
    {
     "name": "stdout",
     "output_type": "stream",
     "text": [
      "NO.0: gt: 1 p: 0\n",
      "NO.1: gt: 1 p: 0\n",
      "NO.2: gt: 1 p: 0\n",
      "NO.4: gt: 1 p: 0\n",
      "NO.5: gt: 1 p: 0\n",
      "NO.6: gt: 1 p: 0\n",
      "NO.7: gt: 1 p: 0\n",
      "NO.9: gt: 1 p: 0\n",
      "NO.10: gt: 1 p: 0\n",
      "NO.11: gt: 1 p: 0\n",
      "NO.12: gt: 1 p: 0\n",
      "NO.13: gt: 1 p: 0\n",
      "NO.17: gt: 1 p: 0\n",
      "NO.23: gt: 1 p: 0\n",
      "NO.26: gt: 1 p: 0\n",
      "NO.29: gt: 1 p: 0\n",
      "NO.31: gt: 1 p: 0\n",
      "NO.32: gt: 1 p: 0\n",
      "NO.35: gt: 1 p: 0\n",
      "NO.37: gt: 1 p: 0\n",
      "NO.38: gt: 1 p: 0\n",
      "NO.39: gt: 1 p: 0\n",
      "NO.40: gt: 1 p: 0\n",
      "NO.42: gt: 1 p: 0\n",
      "NO.43: gt: 1 p: 0\n",
      "NO.44: gt: 1 p: 0\n",
      "NO.49: gt: 1 p: 0\n",
      "NO.60: gt: 1 p: 0\n",
      "NO.61: gt: 1 p: 0\n",
      "NO.62: gt: 1 p: 0\n",
      "NO.64: gt: 1 p: 0\n",
      "NO.65: gt: 1 p: 0\n",
      "NO.66: gt: 1 p: 0\n",
      "NO.72: gt: 1 p: 0\n",
      "NO.73: gt: 1 p: 0\n",
      "NO.75: gt: 1 p: 0\n",
      "NO.76: gt: 1 p: 0\n",
      "NO.77: gt: 1 p: 0\n",
      "NO.79: gt: 1 p: 0\n",
      "NO.81: gt: 1 p: 0\n",
      "NO.82: gt: 1 p: 0\n",
      "NO.84: gt: 1 p: 0\n",
      "NO.86: gt: 1 p: 0\n",
      "NO.88: gt: 1 p: 0\n",
      "NO.89: gt: 1 p: 0\n",
      "NO.90: gt: 1 p: 0\n",
      "NO.91: gt: 1 p: 0\n",
      "NO.94: gt: 1 p: 0\n",
      "NO.97: gt: 1 p: 0\n",
      "NO.99: gt: 1 p: 0\n",
      "50\n"
     ]
    }
   ],
   "source": [
    "error = 0\n",
    "for i in range(len(result1)):\n",
    "    if dev_label[i] != result1[i]:\n",
    "        error+=1\n",
    "        print(\"NO.{}:\".format(i),\"gt:\",dev_label[i],\"p:\",int(result1[i]))\n",
    "print(error)"
   ]
  },
  {
   "cell_type": "code",
   "execution_count": 34,
   "metadata": {},
   "outputs": [
    {
     "name": "stdout",
     "output_type": "stream",
     "text": [
      "(1410, 45913)\n"
     ]
    }
   ],
   "source": [
    "# predict on test and give an output\n",
    "processed_test_set = [re.sub(r'http\\S+', '', s) for s in test_set]\n",
    "vectorizer_test = CountVectorizer(tokenizer=my_tokenize,lowercase=True,stop_words='english',\n",
    "                                 vocabulary=vectorizer.vocabulary_)\n",
    "x_test = vectorizer_test.fit_transform(processed_test_set)\n",
    "# x_dev.shape\n",
    "x_test_tfidf = tfidf_transformer.fit_transform(x_test)\n",
    "print(x_test_tfidf.shape)"
   ]
  },
  {
   "cell_type": "code",
   "execution_count": 36,
   "metadata": {},
   "outputs": [
    {
     "name": "stdout",
     "output_type": "stream",
     "text": [
      "[1 0 0 ... 1 1 0]\n",
      "finish\n"
     ]
    }
   ],
   "source": [
    "result_test = clf.predict(x_test_tfidf)\n",
    "print(result_test)\n",
    "result_dict_test = {}\n",
    "for i in range(len(result_test)):\n",
    "    key = \"test-{}\".format(i)\n",
    "    result_dict_test[key] = {\"label\":int(result_test[i])}\n",
    "\n",
    "with open(\"test-output.json\",\"w\") as f:\n",
    "    json.dump(result_dict_test,f)\n",
    "    print(\"finish\")"
   ]
  },
  {
   "cell_type": "code",
   "execution_count": null,
   "metadata": {},
   "outputs": [],
   "source": [
    "# from sklearn.decomposition import TruncatedSVD\n",
    "# lsa = TruncatedSVD(n_components=100, n_iter=7, random_state=42)\n",
    "# SVD_x_train = lsa.fit_transform(x_train_tfidf)\n",
    "# SVD_x_dev = lsa.fit_transform(x_dev_tfidf)\n",
    "# SVD_x_train.shape"
   ]
  },
  {
   "cell_type": "code",
   "execution_count": 51,
   "metadata": {},
   "outputs": [],
   "source": []
  },
  {
   "cell_type": "code",
   "execution_count": null,
   "metadata": {},
   "outputs": [],
   "source": []
  }
 ],
 "metadata": {
  "kernelspec": {
   "display_name": "Python 3",
   "language": "python",
   "name": "python3"
  },
  "language_info": {
   "codemirror_mode": {
    "name": "ipython",
    "version": 3
   },
   "file_extension": ".py",
   "mimetype": "text/x-python",
   "name": "python",
   "nbconvert_exporter": "python",
   "pygments_lexer": "ipython3",
   "version": "3.7.3"
  }
 },
 "nbformat": 4,
 "nbformat_minor": 2
}
